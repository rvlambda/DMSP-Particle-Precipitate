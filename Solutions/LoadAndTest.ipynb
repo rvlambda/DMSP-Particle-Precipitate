{
 "cells": [
  {
   "cell_type": "code",
   "execution_count": 1,
   "metadata": {},
   "outputs": [],
   "source": [
    "import numpy as np\n",
    "import os\n",
    "import pandas as pd\n",
    "import seaborn as sns\n",
    "from pandas.plotting import register_matplotlib_converters\n",
    "register_matplotlib_converters()\n",
    "import datetime\n",
    "from os.path import isfile, join\n",
    "from sys import getsizeof\n",
    "import glob\n",
    "\n",
    "from random import *\n",
    "\n",
    "from sklearn import preprocessing\n",
    "from sklearn import metrics\n",
    "from sklearn.ensemble import RandomForestRegressor\n",
    "from sklearn.model_selection import ParameterGrid\n",
    "from sklearn.model_selection import StratifiedKFold\n",
    "\n",
    "from pickle import dump\n",
    "import joblib\n",
    "\n",
    "# from keras import backend as K\n",
    "import tensorflow.keras as k\n",
    "from tensorflow.keras import utils, models, layers, optimizers\n",
    "from tensorflow.keras.wrappers.scikit_learn import KerasClassifier, KerasRegressor\n",
    "from tensorflow.keras.callbacks import EarlyStopping\n",
    "from tensorflow.keras.callbacks import ModelCheckpoint\n",
    "from tensorflow.keras.models import load_model\n",
    "\n",
    "import tensorflow as tf"
   ]
  },
  {
   "cell_type": "code",
   "execution_count": 3,
   "metadata": {},
   "outputs": [],
   "source": [
    "# Load the model\n",
    "\n",
    "model = load_model(\"./model/Optimal-Weights-008--71.51781.hdf5\")"
   ]
  },
  {
   "cell_type": "markdown",
   "metadata": {},
   "source": [
    "# Testing the Model"
   ]
  },
  {
   "cell_type": "code",
   "execution_count": 4,
   "metadata": {},
   "outputs": [],
   "source": [
    "def get_prediction(data,model):\n",
    "    \"\"\"\n",
    "    Predict the class of a given data point.\n",
    "    \"\"\"\n",
    "    return model.predict(data)"
   ]
  },
  {
   "cell_type": "code",
   "execution_count": 5,
   "metadata": {},
   "outputs": [],
   "source": [
    "# Load sample data to test\n",
    "# load dataset\n",
    "df = pd.read_csv(\"D:/Revi/Courses/TMLC/Projects/2. Deep Learning/4. DMSP Particle Precipitate/Dataset/AI_Ready_DMSP_Data.csv\")\n",
    "\n",
    "df_test = df.sample(5)\n",
    "\n",
    "df_test.to_csv(\"D:/Revi/Courses/TMLC/Projects/2. Deep Learning/4. DMSP Particle Precipitate/Dataset/AI_Ready_DMSP_Test.csv\")"
   ]
  },
  {
   "cell_type": "code",
   "execution_count": 6,
   "metadata": {},
   "outputs": [],
   "source": [
    "from sklearn.preprocessing import RobustScaler"
   ]
  },
  {
   "cell_type": "code",
   "execution_count": 7,
   "metadata": {},
   "outputs": [],
   "source": [
    "feature_cols = ['Bx_6hr','AL_6hr','vsw_6hr','psw_6hr','Bz_3hr','By_3hr','psw_1hr','By_45min','AL_45min','Bz_10min']"
   ]
  },
  {
   "cell_type": "code",
   "execution_count": 10,
   "metadata": {},
   "outputs": [],
   "source": [
    "def PreProcessData(df):\n",
    "    \n",
    "    # Scale and Transform inputs\n",
    "    X_val = df[feature_cols].copy(deep=True)\n",
    "    y_val = df['ELE_TOTAL_ENERGY_FLUX'].copy(deep=True)\n",
    "    scaler_X = RobustScaler()\n",
    "    scaler_X = scaler_X.fit(X_val.values)\n",
    "    X_val_scaled = scaler_X.transform(X_val.values)\n",
    "    \n",
    "    # Scale and Transform labels\n",
    "    # The units of the energy flux are eV/cm2/s/ster\n",
    "    #   --> To remove the 'steradian' multiply by PI (see: https://agupubs.onlinelibrary.wiley.com/doi/epdf/10.1002/2016JA023339)\n",
    "    y_val = y_val * np.pi\n",
    "\n",
    "    y_val_log = np.log10(y_val.copy(deep=True))\n",
    "    \n",
    "    return X_val_scaled, y_val_log\n"
   ]
  },
  {
   "cell_type": "code",
   "execution_count": 11,
   "metadata": {},
   "outputs": [],
   "source": [
    "df = pd.read_csv(\"D:/Revi/Courses/TMLC/Projects/2. Deep Learning/4. DMSP Particle Precipitate/Dataset/AI_Ready_DMSP_Test.csv\")"
   ]
  },
  {
   "cell_type": "code",
   "execution_count": 12,
   "metadata": {},
   "outputs": [
    {
     "data": {
      "text/html": [
       "<div>\n",
       "<style scoped>\n",
       "    .dataframe tbody tr th:only-of-type {\n",
       "        vertical-align: middle;\n",
       "    }\n",
       "\n",
       "    .dataframe tbody tr th {\n",
       "        vertical-align: top;\n",
       "    }\n",
       "\n",
       "    .dataframe thead th {\n",
       "        text-align: right;\n",
       "    }\n",
       "</style>\n",
       "<table border=\"1\" class=\"dataframe\">\n",
       "  <thead>\n",
       "    <tr style=\"text-align: right;\">\n",
       "      <th></th>\n",
       "      <th>Unnamed: 0</th>\n",
       "      <th>Datetimes</th>\n",
       "      <th>SC_AACGM_LAT</th>\n",
       "      <th>SC_AACGM_LTIME</th>\n",
       "      <th>ELE_TOTAL_ENERGY_FLUX</th>\n",
       "      <th>ELE_TOTAL_ENERGY_FLUX_STD</th>\n",
       "      <th>ELE_AVG_ENERGY</th>\n",
       "      <th>ELE_AVG_ENERGY_STD</th>\n",
       "      <th>ID_SC</th>\n",
       "      <th>sin_ut</th>\n",
       "      <th>...</th>\n",
       "      <th>AE_5min</th>\n",
       "      <th>AL_5min</th>\n",
       "      <th>AU_5min</th>\n",
       "      <th>SymH_5min</th>\n",
       "      <th>PC_5min</th>\n",
       "      <th>vsw_5min</th>\n",
       "      <th>vx_5min</th>\n",
       "      <th>psw_5min</th>\n",
       "      <th>borovsky_5min</th>\n",
       "      <th>newell_5min</th>\n",
       "    </tr>\n",
       "  </thead>\n",
       "  <tbody>\n",
       "    <tr>\n",
       "      <th>0</th>\n",
       "      <td>429411</td>\n",
       "      <td>2003-09-14 14:21:00</td>\n",
       "      <td>52.960037</td>\n",
       "      <td>10.227748</td>\n",
       "      <td>484548200.0</td>\n",
       "      <td>0.246644</td>\n",
       "      <td>67.87744</td>\n",
       "      <td>0.364726</td>\n",
       "      <td>15.0</td>\n",
       "      <td>-0.577145</td>\n",
       "      <td>...</td>\n",
       "      <td>78.0</td>\n",
       "      <td>-17.0</td>\n",
       "      <td>61.0</td>\n",
       "      <td>5.0</td>\n",
       "      <td>0.25</td>\n",
       "      <td>397.2</td>\n",
       "      <td>-396.6</td>\n",
       "      <td>1.11</td>\n",
       "      <td>25658.352798</td>\n",
       "      <td>3826.673706</td>\n",
       "    </tr>\n",
       "    <tr>\n",
       "      <th>1</th>\n",
       "      <td>1420679</td>\n",
       "      <td>2011-12-04 13:46:00</td>\n",
       "      <td>69.260934</td>\n",
       "      <td>17.346047</td>\n",
       "      <td>32414300.0</td>\n",
       "      <td>0.642043</td>\n",
       "      <td>36.89621</td>\n",
       "      <td>0.801955</td>\n",
       "      <td>17.0</td>\n",
       "      <td>-0.446198</td>\n",
       "      <td>...</td>\n",
       "      <td>48.0</td>\n",
       "      <td>-56.0</td>\n",
       "      <td>-7.0</td>\n",
       "      <td>-21.0</td>\n",
       "      <td>0.77</td>\n",
       "      <td>451.9</td>\n",
       "      <td>-451.2</td>\n",
       "      <td>1.18</td>\n",
       "      <td>58399.869305</td>\n",
       "      <td>3784.324984</td>\n",
       "    </tr>\n",
       "    <tr>\n",
       "      <th>2</th>\n",
       "      <td>277191</td>\n",
       "      <td>2002-09-27 12:37:00</td>\n",
       "      <td>62.649816</td>\n",
       "      <td>21.031994</td>\n",
       "      <td>124487300.0</td>\n",
       "      <td>0.735324</td>\n",
       "      <td>370.75180</td>\n",
       "      <td>1.029932</td>\n",
       "      <td>14.0</td>\n",
       "      <td>-0.160743</td>\n",
       "      <td>...</td>\n",
       "      <td>172.0</td>\n",
       "      <td>-80.0</td>\n",
       "      <td>92.0</td>\n",
       "      <td>1.0</td>\n",
       "      <td>2.48</td>\n",
       "      <td>280.9</td>\n",
       "      <td>-280.4</td>\n",
       "      <td>0.37</td>\n",
       "      <td>3628.852603</td>\n",
       "      <td>2839.796580</td>\n",
       "    </tr>\n",
       "    <tr>\n",
       "      <th>3</th>\n",
       "      <td>793022</td>\n",
       "      <td>2005-05-25 16:18:00</td>\n",
       "      <td>55.613824</td>\n",
       "      <td>8.705475</td>\n",
       "      <td>45176510.0</td>\n",
       "      <td>1.236363</td>\n",
       "      <td>114.48180</td>\n",
       "      <td>1.751716</td>\n",
       "      <td>15.0</td>\n",
       "      <td>-0.902585</td>\n",
       "      <td>...</td>\n",
       "      <td>134.0</td>\n",
       "      <td>-78.0</td>\n",
       "      <td>56.0</td>\n",
       "      <td>0.0</td>\n",
       "      <td>0.37</td>\n",
       "      <td>387.4</td>\n",
       "      <td>-387.0</td>\n",
       "      <td>1.99</td>\n",
       "      <td>8014.554100</td>\n",
       "      <td>517.805913</td>\n",
       "    </tr>\n",
       "    <tr>\n",
       "      <th>4</th>\n",
       "      <td>614400</td>\n",
       "      <td>2004-08-08 18:51:00</td>\n",
       "      <td>78.081303</td>\n",
       "      <td>19.142133</td>\n",
       "      <td>73477050.0</td>\n",
       "      <td>0.464174</td>\n",
       "      <td>89.95745</td>\n",
       "      <td>0.674218</td>\n",
       "      <td>15.0</td>\n",
       "      <td>-0.975342</td>\n",
       "      <td>...</td>\n",
       "      <td>176.0</td>\n",
       "      <td>-129.0</td>\n",
       "      <td>47.0</td>\n",
       "      <td>-4.0</td>\n",
       "      <td>1.11</td>\n",
       "      <td>411.2</td>\n",
       "      <td>-410.2</td>\n",
       "      <td>0.74</td>\n",
       "      <td>13883.995956</td>\n",
       "      <td>3001.847826</td>\n",
       "    </tr>\n",
       "  </tbody>\n",
       "</table>\n",
       "<p>5 rows × 155 columns</p>\n",
       "</div>"
      ],
      "text/plain": [
       "   Unnamed: 0            Datetimes  SC_AACGM_LAT  SC_AACGM_LTIME  \\\n",
       "0      429411  2003-09-14 14:21:00     52.960037       10.227748   \n",
       "1     1420679  2011-12-04 13:46:00     69.260934       17.346047   \n",
       "2      277191  2002-09-27 12:37:00     62.649816       21.031994   \n",
       "3      793022  2005-05-25 16:18:00     55.613824        8.705475   \n",
       "4      614400  2004-08-08 18:51:00     78.081303       19.142133   \n",
       "\n",
       "   ELE_TOTAL_ENERGY_FLUX  ELE_TOTAL_ENERGY_FLUX_STD  ELE_AVG_ENERGY  \\\n",
       "0            484548200.0                   0.246644        67.87744   \n",
       "1             32414300.0                   0.642043        36.89621   \n",
       "2            124487300.0                   0.735324       370.75180   \n",
       "3             45176510.0                   1.236363       114.48180   \n",
       "4             73477050.0                   0.464174        89.95745   \n",
       "\n",
       "   ELE_AVG_ENERGY_STD  ID_SC    sin_ut  ...  AE_5min  AL_5min  AU_5min  \\\n",
       "0            0.364726   15.0 -0.577145  ...     78.0    -17.0     61.0   \n",
       "1            0.801955   17.0 -0.446198  ...     48.0    -56.0     -7.0   \n",
       "2            1.029932   14.0 -0.160743  ...    172.0    -80.0     92.0   \n",
       "3            1.751716   15.0 -0.902585  ...    134.0    -78.0     56.0   \n",
       "4            0.674218   15.0 -0.975342  ...    176.0   -129.0     47.0   \n",
       "\n",
       "   SymH_5min  PC_5min  vsw_5min  vx_5min  psw_5min  borovsky_5min  newell_5min  \n",
       "0        5.0     0.25     397.2   -396.6      1.11   25658.352798  3826.673706  \n",
       "1      -21.0     0.77     451.9   -451.2      1.18   58399.869305  3784.324984  \n",
       "2        1.0     2.48     280.9   -280.4      0.37    3628.852603  2839.796580  \n",
       "3        0.0     0.37     387.4   -387.0      1.99    8014.554100   517.805913  \n",
       "4       -4.0     1.11     411.2   -410.2      0.74   13883.995956  3001.847826  \n",
       "\n",
       "[5 rows x 155 columns]"
      ]
     },
     "execution_count": 12,
     "metadata": {},
     "output_type": "execute_result"
    }
   ],
   "source": [
    "df"
   ]
  },
  {
   "cell_type": "code",
   "execution_count": 13,
   "metadata": {},
   "outputs": [],
   "source": [
    "df_test = df[feature_cols].copy()"
   ]
  },
  {
   "cell_type": "code",
   "execution_count": 14,
   "metadata": {},
   "outputs": [
    {
     "data": {
      "text/html": [
       "<div>\n",
       "<style scoped>\n",
       "    .dataframe tbody tr th:only-of-type {\n",
       "        vertical-align: middle;\n",
       "    }\n",
       "\n",
       "    .dataframe tbody tr th {\n",
       "        vertical-align: top;\n",
       "    }\n",
       "\n",
       "    .dataframe thead th {\n",
       "        text-align: right;\n",
       "    }\n",
       "</style>\n",
       "<table border=\"1\" class=\"dataframe\">\n",
       "  <thead>\n",
       "    <tr style=\"text-align: right;\">\n",
       "      <th></th>\n",
       "      <th>Bx_6hr</th>\n",
       "      <th>AL_6hr</th>\n",
       "      <th>vsw_6hr</th>\n",
       "      <th>psw_6hr</th>\n",
       "      <th>Bz_3hr</th>\n",
       "      <th>By_3hr</th>\n",
       "      <th>psw_1hr</th>\n",
       "      <th>By_45min</th>\n",
       "      <th>AL_45min</th>\n",
       "      <th>Bz_10min</th>\n",
       "    </tr>\n",
       "  </thead>\n",
       "  <tbody>\n",
       "    <tr>\n",
       "      <th>0</th>\n",
       "      <td>-2.030000</td>\n",
       "      <td>-18.916667</td>\n",
       "      <td>427.650000</td>\n",
       "      <td>1.593333</td>\n",
       "      <td>4.401667</td>\n",
       "      <td>-0.590000</td>\n",
       "      <td>1.088333</td>\n",
       "      <td>-1.04</td>\n",
       "      <td>-10.0</td>\n",
       "      <td>-1.64</td>\n",
       "    </tr>\n",
       "    <tr>\n",
       "      <th>1</th>\n",
       "      <td>-1.458333</td>\n",
       "      <td>-64.166667</td>\n",
       "      <td>460.975000</td>\n",
       "      <td>1.811667</td>\n",
       "      <td>-0.093333</td>\n",
       "      <td>-2.416667</td>\n",
       "      <td>1.085000</td>\n",
       "      <td>-1.03</td>\n",
       "      <td>-32.0</td>\n",
       "      <td>-1.11</td>\n",
       "    </tr>\n",
       "    <tr>\n",
       "      <th>2</th>\n",
       "      <td>-0.063333</td>\n",
       "      <td>-27.916667</td>\n",
       "      <td>291.475000</td>\n",
       "      <td>1.654167</td>\n",
       "      <td>-4.473333</td>\n",
       "      <td>5.945000</td>\n",
       "      <td>0.658333</td>\n",
       "      <td>8.12</td>\n",
       "      <td>-120.0</td>\n",
       "      <td>-0.16</td>\n",
       "    </tr>\n",
       "    <tr>\n",
       "      <th>3</th>\n",
       "      <td>-4.309167</td>\n",
       "      <td>-31.500000</td>\n",
       "      <td>390.175000</td>\n",
       "      <td>1.367500</td>\n",
       "      <td>0.530000</td>\n",
       "      <td>3.106667</td>\n",
       "      <td>1.336667</td>\n",
       "      <td>2.58</td>\n",
       "      <td>-58.0</td>\n",
       "      <td>1.46</td>\n",
       "    </tr>\n",
       "    <tr>\n",
       "      <th>4</th>\n",
       "      <td>-5.596667</td>\n",
       "      <td>-63.500000</td>\n",
       "      <td>403.008333</td>\n",
       "      <td>0.605833</td>\n",
       "      <td>-0.736667</td>\n",
       "      <td>-2.423333</td>\n",
       "      <td>0.658333</td>\n",
       "      <td>-3.11</td>\n",
       "      <td>-148.0</td>\n",
       "      <td>-0.33</td>\n",
       "    </tr>\n",
       "  </tbody>\n",
       "</table>\n",
       "</div>"
      ],
      "text/plain": [
       "     Bx_6hr     AL_6hr     vsw_6hr   psw_6hr    Bz_3hr    By_3hr   psw_1hr  \\\n",
       "0 -2.030000 -18.916667  427.650000  1.593333  4.401667 -0.590000  1.088333   \n",
       "1 -1.458333 -64.166667  460.975000  1.811667 -0.093333 -2.416667  1.085000   \n",
       "2 -0.063333 -27.916667  291.475000  1.654167 -4.473333  5.945000  0.658333   \n",
       "3 -4.309167 -31.500000  390.175000  1.367500  0.530000  3.106667  1.336667   \n",
       "4 -5.596667 -63.500000  403.008333  0.605833 -0.736667 -2.423333  0.658333   \n",
       "\n",
       "   By_45min  AL_45min  Bz_10min  \n",
       "0     -1.04     -10.0     -1.64  \n",
       "1     -1.03     -32.0     -1.11  \n",
       "2      8.12    -120.0     -0.16  \n",
       "3      2.58     -58.0      1.46  \n",
       "4     -3.11    -148.0     -0.33  "
      ]
     },
     "execution_count": 14,
     "metadata": {},
     "output_type": "execute_result"
    }
   ],
   "source": [
    "df_test"
   ]
  },
  {
   "cell_type": "code",
   "execution_count": 36,
   "metadata": {},
   "outputs": [],
   "source": [
    "df_sample = df_test[3:4][feature_cols]"
   ]
  },
  {
   "cell_type": "code",
   "execution_count": 40,
   "metadata": {},
   "outputs": [
    {
     "data": {
      "text/html": [
       "<div>\n",
       "<style scoped>\n",
       "    .dataframe tbody tr th:only-of-type {\n",
       "        vertical-align: middle;\n",
       "    }\n",
       "\n",
       "    .dataframe tbody tr th {\n",
       "        vertical-align: top;\n",
       "    }\n",
       "\n",
       "    .dataframe thead th {\n",
       "        text-align: right;\n",
       "    }\n",
       "</style>\n",
       "<table border=\"1\" class=\"dataframe\">\n",
       "  <thead>\n",
       "    <tr style=\"text-align: right;\">\n",
       "      <th></th>\n",
       "      <th>Bx_6hr</th>\n",
       "      <th>AL_6hr</th>\n",
       "      <th>vsw_6hr</th>\n",
       "      <th>psw_6hr</th>\n",
       "      <th>Bz_3hr</th>\n",
       "      <th>By_3hr</th>\n",
       "      <th>psw_1hr</th>\n",
       "      <th>By_45min</th>\n",
       "      <th>AL_45min</th>\n",
       "      <th>Bz_10min</th>\n",
       "    </tr>\n",
       "  </thead>\n",
       "  <tbody>\n",
       "    <tr>\n",
       "      <th>3</th>\n",
       "      <td>-4.309167</td>\n",
       "      <td>-31.5</td>\n",
       "      <td>390.175</td>\n",
       "      <td>1.3675</td>\n",
       "      <td>0.53</td>\n",
       "      <td>3.106667</td>\n",
       "      <td>1.336667</td>\n",
       "      <td>2.58</td>\n",
       "      <td>-58.0</td>\n",
       "      <td>1.46</td>\n",
       "    </tr>\n",
       "  </tbody>\n",
       "</table>\n",
       "</div>"
      ],
      "text/plain": [
       "     Bx_6hr  AL_6hr  vsw_6hr  psw_6hr  Bz_3hr    By_3hr   psw_1hr  By_45min  \\\n",
       "3 -4.309167   -31.5  390.175   1.3675    0.53  3.106667  1.336667      2.58   \n",
       "\n",
       "   AL_45min  Bz_10min  \n",
       "3     -58.0      1.46  "
      ]
     },
     "execution_count": 40,
     "metadata": {},
     "output_type": "execute_result"
    }
   ],
   "source": [
    "df_sample"
   ]
  },
  {
   "cell_type": "code",
   "execution_count": 39,
   "metadata": {},
   "outputs": [],
   "source": [
    "scaler_X = RobustScaler()\n",
    "scaler_X = scaler_X.fit(df_sample.values)\n",
    "X_val_scaled = scaler_X.transform(df_sample.values)"
   ]
  },
  {
   "cell_type": "code",
   "execution_count": 32,
   "metadata": {},
   "outputs": [
    {
     "data": {
      "text/plain": [
       "(array([[427.65]]), array([[0.]]))"
      ]
     },
     "execution_count": 32,
     "metadata": {},
     "output_type": "execute_result"
    }
   ],
   "source": [
    "scaler_X = RobustScaler()\n",
    "test = df_sample.values[0][2].reshape(-1, 1)\n",
    "scaler_X = scaler_X.fit(test)\n",
    "test_scaled = scaler_X.transform(test)\n",
    "test,test_scaled"
   ]
  },
  {
   "cell_type": "code",
   "execution_count": 41,
   "metadata": {},
   "outputs": [],
   "source": [
    "df_sample = np.array(df_sample).reshape(1,-1)"
   ]
  },
  {
   "cell_type": "code",
   "execution_count": 42,
   "metadata": {},
   "outputs": [
    {
     "data": {
      "text/plain": [
       "array([[ -4.30916667, -31.5       , 390.175     ,   1.3675    ,\n",
       "          0.53      ,   3.10666667,   1.33666667,   2.58      ,\n",
       "        -58.        ,   1.46      ]])"
      ]
     },
     "execution_count": 42,
     "metadata": {},
     "output_type": "execute_result"
    }
   ],
   "source": [
    "df_sample"
   ]
  },
  {
   "cell_type": "code",
   "execution_count": 43,
   "metadata": {},
   "outputs": [
    {
     "data": {
      "text/plain": [
       "array([[1.]], dtype=float32)"
      ]
     },
     "execution_count": 43,
     "metadata": {},
     "output_type": "execute_result"
    }
   ],
   "source": [
    "pred = get_prediction(df_sample,model)\n",
    "pred"
   ]
  }
 ],
 "metadata": {
  "interpreter": {
   "hash": "c93f7b219f32384179a3452a4b1c3d4a7cd177db80043fe12eb7063357652e7c"
  },
  "kernelspec": {
   "display_name": "Python 3.9.7",
   "language": "python",
   "name": "python3"
  },
  "language_info": {
   "codemirror_mode": {
    "name": "ipython",
    "version": 3
   },
   "file_extension": ".py",
   "mimetype": "text/x-python",
   "name": "python",
   "nbconvert_exporter": "python",
   "pygments_lexer": "ipython3",
   "version": "3.9.7"
  },
  "orig_nbformat": 4
 },
 "nbformat": 4,
 "nbformat_minor": 2
}
